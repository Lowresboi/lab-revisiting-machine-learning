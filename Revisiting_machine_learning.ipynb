{
  "nbformat": 4,
  "nbformat_minor": 0,
  "metadata": {
    "colab": {
      "provenance": []
    },
    "kernelspec": {
      "name": "python3",
      "display_name": "Python 3"
    },
    "language_info": {
      "name": "python"
    }
  },
  "cells": [
    {
      "cell_type": "code",
      "execution_count": null,
      "metadata": {
        "id": "OLjlrM_XCKRN"
      },
      "outputs": [],
      "source": [
        "# Libraries for the lab\n",
        "\n",
        "from sqlalchemy import create_engine\n",
        "import pandas as pd\n",
        "import numpy as np\n",
        "import getpass\n",
        "import matplotlib.pyplot as plt\n",
        "import seaborn as sns\n",
        "from sklearn.preprocessing import Normalizer, StandardScaler\n",
        "from sklearn.model_selection import train_test_split\n",
        "from sklearn.linear_model import LogisticRegression\n",
        "from sklearn.metrics import confusion_matrix, classification_report\n",
        "from sklearn.metrics import accuracy_score, classification_report, confusion_matrix\n",
        "from sklearn.preprocessing import OneHotEncoder\n",
        "\n",
        "# Mounting the csv file\n",
        "\n",
        "df = pd.read_csv(\"/content/learningSet.csv\")\n",
        "df.head()"
      ]
    },
    {
      "cell_type": "code",
      "source": [
        "df.info()"
      ],
      "metadata": {
        "id": "l8iK4ezNE3sE"
      },
      "execution_count": null,
      "outputs": []
    },
    {
      "cell_type": "code",
      "source": [
        "df.dtypes"
      ],
      "metadata": {
        "id": "USBetTEYFLoE"
      },
      "execution_count": null,
      "outputs": []
    },
    {
      "cell_type": "code",
      "source": [
        "df.shape"
      ],
      "metadata": {
        "id": "_T_VhPDxD4uK"
      },
      "execution_count": null,
      "outputs": []
    },
    {
      "cell_type": "code",
      "source": [
        "df.describe()"
      ],
      "metadata": {
        "id": "YJ-rCyprFYsS"
      },
      "execution_count": null,
      "outputs": []
    },
    {
      "cell_type": "code",
      "source": [
        "# Checking for missing values (NaNs)\n",
        "print(df.isnull().sum())"
      ],
      "metadata": {
        "id": "1GOSZUZ-FedA"
      },
      "execution_count": null,
      "outputs": []
    },
    {
      "cell_type": "code",
      "source": [
        "df = df.drop(['OSOURCE','ZIP'], axis=1)"
      ],
      "metadata": {
        "id": "gNrSzjBfIOIG"
      },
      "execution_count": null,
      "outputs": []
    },
    {
      "cell_type": "code",
      "source": [
        "# Create a new empty list called drop_list.\n",
        "drop_list = []\n",
        "\n",
        "# Append the columns\n",
        "drop_list.append('OSOURCE')\n",
        "drop_list.append('ZIP CODE')\n",
        "\n",
        "# Check the drop list\n",
        "print(\"Current drop_list:\", drop_list)"
      ],
      "metadata": {
        "id": "WQZCHBrQH0AA"
      },
      "execution_count": null,
      "outputs": []
    },
    {
      "cell_type": "code",
      "source": [
        "# Check the columns after the drop\n",
        "df.columns"
      ],
      "metadata": {
        "id": "07H0dKOzICy2"
      },
      "execution_count": null,
      "outputs": []
    },
    {
      "cell_type": "code",
      "source": [
        "# Identify columns that over 85% missing values\n",
        "\n",
        "missing_percentage = (df.isnull().sum() / len(df)) * 100\n",
        "columns_to_drop = missing_percentage[missing_percentage > 85].index.tolist()\n",
        "print(\"Columns with 85% missing values:\", columns_to_drop)\n"
      ],
      "metadata": {
        "id": "bndPNRYbJSkw"
      },
      "execution_count": null,
      "outputs": []
    },
    {
      "cell_type": "code",
      "source": [
        "# Dropping the identified columns from the DataFrame.\n",
        "df = df.drop(columns=columns_to_drop)"
      ],
      "metadata": {
        "id": "1Tbqad5YKr6J"
      },
      "execution_count": null,
      "outputs": []
    },
    {
      "cell_type": "code",
      "source": [
        "# Display unique values in the \"GENDER\" column before modification\n",
        "print(\"Unique values before modification:\", df['GENDER'].unique())\n",
        "\n",
        "# Map values to the desired categories\n",
        "gender_mapping = {'M': 'M', 'F': 'F', 'other': 'other'}\n",
        "\n",
        "# Replace values not in the mapping with 'other'\n",
        "df['GENDER'] = df['GENDER'].map(gender_mapping).fillna('other')\n",
        "\n",
        "# Display unique values in the \"GENDER\" column after modification\n",
        "print(\"Unique values after modification:\", df['GENDER'].unique())\n"
      ],
      "metadata": {
        "id": "iWhtIr4zOEZt"
      },
      "execution_count": null,
      "outputs": []
    },
    {
      "cell_type": "code",
      "source": [
        "print(df['GENDER'].value_counts())"
      ],
      "metadata": {
        "id": "A7BcyPeiNuuj"
      },
      "execution_count": null,
      "outputs": []
    }
  ]
}